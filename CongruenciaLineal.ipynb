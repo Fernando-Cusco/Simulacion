{
 "cells": [
  {
   "cell_type": "markdown",
   "metadata": {},
   "source": [
    "### Método de congruencias lineales"
   ]
  },
  {
   "cell_type": "code",
   "execution_count": 33,
   "metadata": {},
   "outputs": [],
   "source": [
    "a = 3\n",
    "b = 5\n",
    "m = 19\n",
    "x0 = 500"
   ]
  },
  {
   "cell_type": "code",
   "execution_count": 34,
   "metadata": {},
   "outputs": [
    {
     "name": "stdout",
     "output_type": "stream",
     "text": [
      "Iteración Xn Ui\n",
      "        1 500   0\n",
      "        2 4   0.21052631578947367\n",
      "        3 17   0.8947368421052632\n",
      "        4 18   0.9473684210526315\n",
      "        5 2   0.10526315789473684\n",
      "        6 11   0.5789473684210527\n",
      "        7 0   0.0\n",
      "        8 5   0.2631578947368421\n",
      "        9 1   0.05263157894736842\n",
      "        10 8   0.42105263157894735\n",
      "        11 10   0.5263157894736842\n",
      "        12 16   0.8421052631578947\n",
      "        13 15   0.7894736842105263\n",
      "        14 12   0.631578947368421\n",
      "        15 3   0.15789473684210525\n",
      "        16 14   0.7368421052631579\n",
      "        17 9   0.47368421052631576\n",
      "        18 13   0.6842105263157895\n",
      "        19 6   0.3157894736842105\n",
      "        20 4   0.21052631578947367\n",
      "        21 17   0.8947368421052632\n",
      "        22 18   0.9473684210526315\n",
      "        23 2   0.10526315789473684\n",
      "        24 11   0.5789473684210527\n",
      "        25 0   0.0\n",
      "        26 5   0.2631578947368421\n",
      "        27 1   0.05263157894736842\n",
      "        28 8   0.42105263157894735\n",
      "        29 10   0.5263157894736842\n",
      "        30 16   0.8421052631578947\n",
      "        31 15   0.7894736842105263\n",
      "        32 12   0.631578947368421\n",
      "        33 3   0.15789473684210525\n",
      "        34 14   0.7368421052631579\n"
     ]
    }
   ],
   "source": [
    "tmp = 0\n",
    "xn = 0\n",
    "ui = 0\n",
    "print(\"Iteración\", \"Xn\", \"Ui\")\n",
    "for i in range(1, 35):\n",
    "    if (i == 1):\n",
    "        xn = x0\n",
    "        tmp = xn\n",
    "    else:\n",
    "        xn = (a * (tmp) + b)%m\n",
    "        ui = xn/m\n",
    "        tmp = xn\n",
    "    print(\"       \",i,xn, \" \",ui)      "
   ]
  }
 ],
 "metadata": {
  "kernelspec": {
   "display_name": "Python 3",
   "language": "python",
   "name": "python3"
  },
  "language_info": {
   "codemirror_mode": {
    "name": "ipython",
    "version": 3
   },
   "file_extension": ".py",
   "mimetype": "text/x-python",
   "name": "python",
   "nbconvert_exporter": "python",
   "pygments_lexer": "ipython3",
   "version": "3.7.7"
  }
 },
 "nbformat": 4,
 "nbformat_minor": 4
}
