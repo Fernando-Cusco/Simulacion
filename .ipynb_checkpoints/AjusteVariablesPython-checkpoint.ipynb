{
 "cells": [
  {
   "cell_type": "markdown",
   "metadata": {},
   "source": [
    "# Probabilidad y Estadística con Python"
   ]
  },
  {
   "cell_type": "markdown",
   "metadata": {},
   "source": [
    "## ¿Qué es la Estadística?\n",
    "\n",
    "La estadística suele ser definida como la ciencia de aprender de los datos o como la ciencia de obtener conclusiones en la presencia de incertidumbre. Se relaciona principalmente con la recolección, análisis e interpretación de datos, así como también con la efectiva comunicación y presentación de los resultados basados en esos datos. Como por datos entendemos a cualquier clase de información grabada, la estadística juego un rol importante en muchas disciplinas científicas.\n",
    "\n",
    "La estadística suele ser dividida en dos grandes ramas:\n",
    "\n",
    "La estadística descriptiva: La cual se dedica a recolectar, ordenar, analizar y representar a un conjunto de datos, con el fin de describir apropiadamente las características de este. Calcula los parámetros estadísticos que describen el conjunto estudiado. Algunas de las herramientas que utiliza son gráficos, medidas de frecuencias, medidas de centralización, medidas de posición, medidas de dispersión, entre otras.\n",
    "\n",
    "La estadistica inferencial: La cual estudia cómo sacar conclusiones generales para toda la población a partir del estudio de una muestra, y el grado de fiabilidad o significación de los resultados obtenidos. Sus principales herramientas son el muestreo, la estimación de parámetros y el contraste de hipótesis."
   ]
  },
  {
   "cell_type": "markdown",
   "metadata": {},
   "source": [
    "## Conceptos básicos de la estadística descriptiva\n",
    "\n",
    "En *[estadística descriptiva](https://es.wikipedia.org/wiki/Estad%C3%ADstica_descriptiva)* se utilizan distintas medidas para intentar describir las propiedades de nuestros datos, algunos de los conceptos básicos, son:\n",
    "\n",
    "* **Media aritmética**: La [media aritmética](https://es.wikipedia.org/wiki/Media_aritm%C3%A9tica) es el valor obtenido al sumar todos los *[datos](https://es.wikipedia.org/wiki/Dato)* y dividir el resultado entre el número total elementos. Se suele representar con la letra griega $\\mu$. Si tenemos una [muestra](https://es.wikipedia.org/wiki/Muestra_estad%C3%ADstica) de $n$ valores, $x_i$, la *media aritmética*, $\\mu$, es la suma de los valores divididos por el numero de elementos; en otras palabras:\n",
    "$$\\mu = \\frac{1}{n} \\sum_{i}x_i$$\n",
    "\n",
    "\n",
    "* **Desviación respecto a la media**: La desviación respecto a la media es la diferencia en valor absoluto entre cada valor de la variable estadística y la media aritmética.\n",
    "$$D_i = |x_i - \\mu|$$\n",
    "\n",
    "\n",
    "* **Varianza**: La [varianza](https://es.wikipedia.org/wiki/Varianza) es la media aritmética del cuadrado de las desviaciones respecto a la media de una distribución estadística. La varianza intenta describir la dispersión de los *[datos](https://es.wikipedia.org/wiki/Dato)*. Se representa como $\\sigma^2$. \n",
    "$$\\sigma^2 = \\frac{\\sum\\limits_{i=1}^n(x_i - \\mu)^2}{n} $$\n",
    "\n",
    "\n",
    "* **Desviación típica**: La [desviación típica](https://es.wikipedia.org/wiki/Desviaci%C3%B3n_t%C3%ADpica) es la raíz cuadrada de la varianza. Se representa con la letra griega $\\sigma$.\n",
    "$$\\sigma = \\sqrt{\\frac{\\sum\\limits_{i=1}^n(x_i - \\mu)^2}{n}} $$\n",
    "\n",
    "\n",
    "* **Moda**: La <a href=\"https://es.wikipedia.org/wiki/Moda_(estad%C3%ADstica)\">moda</a> es el valor que tiene mayor frecuencia absoluta. Se representa con $M_0$\n",
    "\n",
    "\n",
    "* **Mediana**: La <a href=\"https://es.wikipedia.org/wiki/Mediana_(estad%C3%ADstica)\">mediana</a> es el valor que ocupa el lugar central de todos los datos cuando éstos están ordenados de menor a mayor. Se representa con $\\widetilde{x}$.\n",
    "\n"
   ]
  },
  {
   "cell_type": "markdown",
   "metadata": {},
   "source": [
    "### Ejemplos en Python\n",
    "\n",
    "Calcular los principales indicadores de la *[estadística descriptiva](https://es.wikipedia.org/wiki/Estad%C3%ADstica_descriptiva)* con [Python](http://python.org/) es muy fácil!."
   ]
  },
  {
   "cell_type": "code",
   "execution_count": 3,
   "metadata": {},
   "outputs": [],
   "source": [
    "# Ejemplos de estadistica descriptiva con python\n",
    "\n",
    "import numpy as np # importando numpy\n",
    "from scipy import stats # importando scipy.stats\n",
    "import pandas as pd # importando pandas\n",
    "\n",
    "np.random.seed(2131982) # para poder replicar el random"
   ]
  },
  {
   "cell_type": "code",
   "execution_count": 2,
   "metadata": {},
   "outputs": [
    {
     "data": {
      "text/plain": [
       "array([[ 0.46038022, -1.08942528, -0.62681496, -0.63329028],\n",
       "       [-0.1074033 , -0.88138082, -0.34466623, -0.28320214],\n",
       "       [ 0.94051171,  0.86693793,  1.20947882, -0.16894118],\n",
       "       [-0.12790177, -0.58099931, -0.46188426, -0.18148302],\n",
       "       [-0.76959435, -1.37414587,  1.37696874, -0.18040537]])"
      ]
     },
     "execution_count": 2,
     "metadata": {},
     "output_type": "execute_result"
    }
   ],
   "source": [
    "datos = np.random.randn(5, 4) # datos normalmente distribuidos\n",
    "datos"
   ]
  },
  {
   "cell_type": "code",
   "execution_count": 3,
   "metadata": {},
   "outputs": [
    {
     "data": {
      "text/plain": [
       "-0.14786303590303568"
      ]
     },
     "execution_count": 3,
     "metadata": {},
     "output_type": "execute_result"
    }
   ],
   "source": [
    "# media arítmetica\n",
    "datos.mean() # Calcula la media aritmetica de"
   ]
  },
  {
   "cell_type": "code",
   "execution_count": 4,
   "metadata": {},
   "outputs": [
    {
     "data": {
      "text/plain": [
       "-0.14786303590303568"
      ]
     },
     "execution_count": 4,
     "metadata": {},
     "output_type": "execute_result"
    }
   ],
   "source": [
    "np.mean(datos) # Mismo resultado desde la funcion de numpy"
   ]
  },
  {
   "cell_type": "code",
   "execution_count": 5,
   "metadata": {},
   "outputs": [
    {
     "data": {
      "text/plain": [
       "array([-0.47228757, -0.40416312,  0.71199682, -0.33806709, -0.23679421])"
      ]
     },
     "execution_count": 5,
     "metadata": {},
     "output_type": "execute_result"
    }
   ],
   "source": [
    "datos.mean(axis=1) # media aritmetica de cada fila"
   ]
  },
  {
   "cell_type": "code",
   "execution_count": 6,
   "metadata": {},
   "outputs": [
    {
     "data": {
      "text/plain": [
       "array([ 0.0791985 , -0.61180267,  0.23061642, -0.2894644 ])"
      ]
     },
     "execution_count": 6,
     "metadata": {},
     "output_type": "execute_result"
    }
   ],
   "source": [
    "datos.mean(axis=0) # media aritmetica de cada columna"
   ]
  },
  {
   "cell_type": "code",
   "execution_count": 7,
   "metadata": {},
   "outputs": [
    {
     "data": {
      "text/plain": [
       "-0.23234258265023794"
      ]
     },
     "execution_count": 7,
     "metadata": {},
     "output_type": "execute_result"
    }
   ],
   "source": [
    "# mediana\n",
    "np.median(datos) "
   ]
  },
  {
   "cell_type": "code",
   "execution_count": 8,
   "metadata": {},
   "outputs": [
    {
     "data": {
      "text/plain": [
       "array([-0.1074033 , -0.88138082, -0.34466623, -0.18148302])"
      ]
     },
     "execution_count": 8,
     "metadata": {},
     "output_type": "execute_result"
    }
   ],
   "source": [
    "np.median(datos, 0) # media aritmetica de cada columna"
   ]
  },
  {
   "cell_type": "code",
   "execution_count": 9,
   "metadata": {},
   "outputs": [
    {
     "data": {
      "text/plain": [
       "0.73755354584071608"
      ]
     },
     "execution_count": 9,
     "metadata": {},
     "output_type": "execute_result"
    }
   ],
   "source": [
    " # Desviación típica\n",
    "np.std(datos)"
   ]
  },
  {
   "cell_type": "code",
   "execution_count": 10,
   "metadata": {},
   "outputs": [
    {
     "data": {
      "text/plain": [
       "array([ 0.58057213,  0.78352862,  0.87384108,  0.17682485])"
      ]
     },
     "execution_count": 10,
     "metadata": {},
     "output_type": "execute_result"
    }
   ],
   "source": [
    "np.std(datos, 0) # Desviación típica de cada columna"
   ]
  },
  {
   "cell_type": "code",
   "execution_count": 11,
   "metadata": {},
   "outputs": [
    {
     "data": {
      "text/plain": [
       "0.54398523298221324"
      ]
     },
     "execution_count": 11,
     "metadata": {},
     "output_type": "execute_result"
    }
   ],
   "source": [
    "# varianza\n",
    "np.var(datos) "
   ]
  },
  {
   "cell_type": "code",
   "execution_count": 12,
   "metadata": {},
   "outputs": [
    {
     "data": {
      "text/plain": [
       "array([ 0.337064  ,  0.6139171 ,  0.76359823,  0.03126703])"
      ]
     },
     "execution_count": 12,
     "metadata": {},
     "output_type": "execute_result"
    }
   ],
   "source": [
    "np.var(datos, 0) # varianza de cada columna"
   ]
  },
  {
   "cell_type": "code",
   "execution_count": 13,
   "metadata": {},
   "outputs": [
    {
     "data": {
      "text/plain": [
       "(array([[-0.76959435, -1.37414587, -0.62681496, -0.63329028]]),\n",
       " array([[ 1.,  1.,  1.,  1.]]))"
      ]
     },
     "execution_count": 13,
     "metadata": {},
     "output_type": "execute_result"
    }
   ],
   "source": [
    "# moda\n",
    "stats.mode(datos) # Calcula la moda de cada columna\n",
    "# el 2do array devuelve la frecuencia."
   ]
  },
  {
   "cell_type": "code",
   "execution_count": 4,
   "metadata": {},
   "outputs": [
    {
     "data": {
      "text/plain": [
       "ModeResult(mode=array([6]), count=array([5]))"
      ]
     },
     "execution_count": 4,
     "metadata": {},
     "output_type": "execute_result"
    }
   ],
   "source": [
    "datos2 = np.array([1, 2, 3, 6, 6, 1, 2, 4, 2, 2, 6, 6, 8, 10, 6])\n",
    "stats.mode(datos2) # aqui la moda es el 6 porque aparece 5 veces en el vector."
   ]
  },
  {
   "cell_type": "markdown",
   "metadata": {},
   "source": [
    "## Practica :\n",
    "Generar un modelo que me permita simular el uso de recursos de los hospitales por cada una de las provincias, para ello obtener la informacion revisada en la practica de investigacion y tomar como ejemplo la practica de simulacion de atencion de paciente del COVID revisada en clase. Lo que se busca es poder generar graficos de uso de recursos:\n",
    "\n",
    "- Costos (Generar un aproximacion de cuanto se invierte para atender a un paciente con COVID)\n",
    "- Personal (Aproximacion del uso del personal por paciente, o el hospital)\n",
    "- Camas\n",
    "- Equipos/Insumos medicos (Obtener una aproximacion del uso de equipos medicos)\n",
    "- Pacientes (Informacion obtenida desde el ministerio de salud - validar con el porcentual del tipo de paciente [ninio 10%, adulto 30%, riesgo 60%]) - Hospitalizacion 80%, Otros 20%\n",
    "\n",
    "\n",
    "Para ello deberan generar un modelo lo mas cercano a la realidad, y con ayuda de la estadistica descriptiva ajustar los valores. Es importante tener como datos de entrada el dia y el numero de pacientes.\n",
    "\n",
    "Finalmente validar el modelo con lo la realidad del pais (Investigar en  base al tema el uso de los recursos publicos )\n"
   ]
  },
  {
   "cell_type": "code",
   "execution_count": 201,
   "metadata": {},
   "outputs": [],
   "source": [
    "import simpy\n",
    "import random\n",
    "import matplotlib.pyplot as pp\n",
    "\n",
    "\n",
    "\n",
    "PRECIO_TEST = [30, 50]\n",
    "PERSONAL_MEDIDO = 30\n",
    "CAMAS = 20\n",
    "RESPIRADORES = 7\n",
    "TESTS = 50\n",
    "TIEMPO_TEST_RAPIDO = 10\n",
    "\n",
    "costos_totales = []\n",
    "personas_test = []\n",
    "\n",
    "res_usados = []\n",
    "cam_usadas = []\n",
    "per_res = []\n",
    "per_cam = []"
   ]
  },
  {
   "cell_type": "code",
   "execution_count": 202,
   "metadata": {},
   "outputs": [],
   "source": [
    "class Paciente:\n",
    "    nombre = ''\n",
    "    edad = 0\n",
    "    estado = False\n",
    "\n",
    "    def __init__(self, nombre, edad, estado):\n",
    "        self.nombre = nombre\n",
    "        self.edad = edad\n",
    "        self.estado = estado"
   ]
  },
  {
   "cell_type": "code",
   "execution_count": 203,
   "metadata": {},
   "outputs": [],
   "source": [
    "class Hospital:\n",
    "    camas = 0\n",
    "    respiradores = 0\n",
    "    def __init__(self, enviroment, num_camas, num_test, num_respiradores):\n",
    "        self.enviroment = enviroment\n",
    "        self.camas = simpy.Resource(enviroment, num_camas)\n",
    "        self.test = simpy.Resource(enviroment, num_test)\n",
    "        self.respirador = simpy.Resource(enviroment, num_respiradores)\n",
    "        self.ncamas = 20\n",
    "        self.nrespiradores = 7\n",
    "    def realizar_test(self, paciente):\n",
    "        paciente.test = True\n",
    "        yield self.enviroment.timeout(TIEMPO_TEST_RAPIDO)\n",
    "        p = random.randint(1, 100)\n",
    "        precio = 0\n",
    "        pr = random.randint(1, 10)\n",
    "        if pr > 5:\n",
    "           precio = PRECIO_TEST[0]\n",
    "        else:\n",
    "            precio = PRECIO_TEST[1]\n",
    "        print('El costo del Test es de:', precio)\n",
    "        if  p > 50:\n",
    "            print('Paciente', paciente.nombre, 'presenta COVIS-19, pero es necesario hospitalizacion')\n",
    "            per_cam.append(1)\n",
    "            self.ncamas -= 1\n",
    "            cam_usadas.append(self.ncamas)\n",
    "            print('CAMAS DISPONIBLES', self.ncamas)\n",
    "            paciente.estado = True\n",
    "        else:\n",
    "            print('Paciente', paciente.nombre, 'presenta COVIS-19, pero NO es necesario hospitalizacion')\n",
    "            paciente.estado = False\n",
    "            #validar si es + o -\n",
    "        costos_totales.append(precio)\n",
    "        personas_test.append(1)\n",
    "    def zona_aislamiento(self, paciente):\n",
    "            paciente.atencion = True\n",
    "            t = random.randint(1, 20)\n",
    "            if t <= 16:\n",
    "                yield self.enviroment.timeout(t)\n",
    "                print('El paciente', paciente.nombre, 'termina su recuperacion en', t)\n",
    "            else:\n",
    "                print('El paciente', paciente.nombre, 'paso sus dias mas de 15 por ende fallece')"
   ]
  },
  {
   "cell_type": "code",
   "execution_count": 204,
   "metadata": {},
   "outputs": [],
   "source": [
    "def llegada_paciente(enviroment, paciente, hospital):\n",
    "    \n",
    "    print('Llega el paciente: %s a la hora %.2f' %(paciente.nombre, enviroment.now))\n",
    "    \n",
    "    with hospital.test.request() as test:\n",
    "        yield test\n",
    "        print('El paciente', paciente.nombre, 'se realiza el test a la Hora: ',enviroment.now)\n",
    "        yield enviroment.process(hospital.realizar_test(paciente))\n",
    "        \n",
    "    if paciente.estado:\n",
    "            with hospital.camas.request() as cama:\n",
    "                yield cama\n",
    "                print(paciente.nombre,' se le asigna a una cama', enviroment.now)\n",
    "                yield enviroment.process(hospital.zona_aislamiento(paciente))\n",
    "                respirador = random.randint(1, 10)\n",
    "                if respirador%2 == 0:\n",
    "                    with hospital.respirador.request() as resp:\n",
    "                        yield resp\n",
    "                        print(paciente.nombre,' se le asigna a un respirador', enviroment.now)\n",
    "                        per_res.append(1)\n",
    "                        hospital.nrespiradores -= 1\n",
    "                        res_usados.append(hospital.nrespiradores)\n",
    "                        print('RESPIRADORES DISPONIBLES', hospital.nrespiradores)"
   ]
  },
  {
   "cell_type": "code",
   "execution_count": 205,
   "metadata": {},
   "outputs": [
    {
     "name": "stdout",
     "output_type": "stream",
     "text": [
      "Llega el paciente: paciente(1) a la hora 0.00\n",
      "Llega el paciente: paciente(2) a la hora 0.00\n",
      "Llega el paciente: paciente(3) a la hora 0.00\n",
      "Llega el paciente: paciente(4) a la hora 0.00\n",
      "Llega el paciente: paciente(5) a la hora 0.00\n",
      "Llega el paciente: paciente(6) a la hora 0.00\n",
      "Llega el paciente: paciente(7) a la hora 0.00\n",
      "Llega el paciente: paciente(8) a la hora 0.00\n",
      "Llega el paciente: paciente(9) a la hora 0.00\n",
      "El paciente paciente(1) se realiza el test a la Hora:  0\n",
      "El paciente paciente(2) se realiza el test a la Hora:  0\n",
      "El paciente paciente(3) se realiza el test a la Hora:  0\n",
      "El paciente paciente(4) se realiza el test a la Hora:  0\n",
      "El paciente paciente(5) se realiza el test a la Hora:  0\n",
      "El paciente paciente(6) se realiza el test a la Hora:  0\n",
      "El paciente paciente(7) se realiza el test a la Hora:  0\n",
      "El paciente paciente(8) se realiza el test a la Hora:  0\n",
      "El paciente paciente(9) se realiza el test a la Hora:  0\n",
      "El costo del Test es de: 30\n",
      "Paciente paciente(1) presenta COVIS-19, pero NO es necesario hospitalizacion\n",
      "El costo del Test es de: 50\n",
      "Paciente paciente(2) presenta COVIS-19, pero NO es necesario hospitalizacion\n",
      "El costo del Test es de: 30\n",
      "Paciente paciente(3) presenta COVIS-19, pero es necesario hospitalizacion\n",
      "CAMAS DISPONIBLES 19\n",
      "El costo del Test es de: 30\n",
      "Paciente paciente(4) presenta COVIS-19, pero NO es necesario hospitalizacion\n",
      "El costo del Test es de: 30\n",
      "Paciente paciente(5) presenta COVIS-19, pero es necesario hospitalizacion\n",
      "CAMAS DISPONIBLES 18\n",
      "El costo del Test es de: 50\n",
      "Paciente paciente(6) presenta COVIS-19, pero NO es necesario hospitalizacion\n",
      "El costo del Test es de: 30\n",
      "Paciente paciente(7) presenta COVIS-19, pero NO es necesario hospitalizacion\n",
      "El costo del Test es de: 30\n",
      "Paciente paciente(8) presenta COVIS-19, pero NO es necesario hospitalizacion\n",
      "El costo del Test es de: 30\n",
      "Paciente paciente(9) presenta COVIS-19, pero es necesario hospitalizacion\n",
      "CAMAS DISPONIBLES 17\n",
      "paciente(3)  se le asigna a una cama 10\n",
      "paciente(5)  se le asigna a una cama 10\n",
      "paciente(9)  se le asigna a una cama 10\n",
      "Llega el paciente: paciente(10) a la hora 12.00\n",
      "El paciente paciente(10) se realiza el test a la Hora:  12\n",
      "El paciente paciente(5) termina su recuperacion en 7\n",
      "Llega el paciente: paciente(11) a la hora 22.00\n",
      "El costo del Test es de: 30\n",
      "Paciente paciente(10) presenta COVIS-19, pero es necesario hospitalizacion\n",
      "CAMAS DISPONIBLES 16\n",
      "El paciente paciente(11) se realiza el test a la Hora:  22\n",
      "paciente(10)  se le asigna a una cama 22\n",
      "El paciente paciente(3) termina su recuperacion en 14\n",
      "paciente(3)  se le asigna a un respirador 24\n",
      "RESPIRADORES DISPONIBLES 6\n",
      "El paciente paciente(9) termina su recuperacion en 15\n",
      "El paciente paciente(10) termina su recuperacion en 4\n",
      "paciente(10)  se le asigna a un respirador 26\n",
      "RESPIRADORES DISPONIBLES 5\n",
      "Llega el paciente: paciente(12) a la hora 32.00\n",
      "El costo del Test es de: 30\n",
      "Paciente paciente(11) presenta COVIS-19, pero NO es necesario hospitalizacion\n",
      "El paciente paciente(12) se realiza el test a la Hora:  32\n",
      "El costo del Test es de: 30\n",
      "Paciente paciente(12) presenta COVIS-19, pero es necesario hospitalizacion\n",
      "CAMAS DISPONIBLES 15\n",
      "paciente(12)  se le asigna a una cama 42\n",
      "El paciente paciente(12) paso sus dias mas de 15 por ende fallece\n",
      "Llega el paciente: paciente(13) a la hora 43.00\n",
      "El paciente paciente(13) se realiza el test a la Hora:  43\n",
      "[30, 50, 30, 30, 30, 50, 30, 30, 30, 30, 30, 30] costos totales\n",
      "MEDIA  33.333333333333336\n"
     ]
    },
    {
     "data": {
      "image/png": "[encoded data removed]",
      "text/plain": [
       "<Figure size 432x288 with 1 Axes>"
      ]
     },
     "metadata": {
      "needs_background": "light"
     },
     "output_type": "display_data"
    }
   ],
   "source": [
    "def ejecutar(enviroment, num_camas, num_test, num_respitadores):\n",
    "    hospital = Hospital(enviroment, num_camas, num_test, num_respitadores)\n",
    "    for i in range(1,10):\n",
    "        edad = random.randint(5, 65)\n",
    "        paciente = Paciente('paciente(%d)'% i, edad, False)\n",
    "        enviroment.process(llegada_paciente(enviroment, paciente, hospital))\n",
    "        paciente = None\n",
    "        \n",
    "    while True:\n",
    "        yield enviroment.timeout(random.randint(10-3, 10+3))\n",
    "        edad = random.randint(5, 65)\n",
    "        i += 1\n",
    "        paciente = Paciente('paciente(%d)'% i, edad, False)\n",
    "        enviroment.process(llegada_paciente(enviroment, paciente, hospital))\n",
    "        paciente = None\n",
    "enviroment=simpy.Environment()\n",
    "enviroment.process(ejecutar(enviroment, CAMAS, TESTS, RESPIRADORES))\n",
    "enviroment.run(until = 50)\n",
    "print(costos_totales, 'costos totales')\n",
    "media = sum(costos_totales)/len(costos_totales)\n",
    "print('MEDIA ',media)\n",
    "for i in range(len(personas_test)):\n",
    "    personas_test[i] = i + 1\n",
    "pp.plot(personas_test, costos_totales)\n",
    "pp.title('Persona - Costos')\n",
    "pp.ylabel('$ Precio')\n",
    "pp.xlabel('Personas')\n",
    "pp.show()"
   ]
  },
  {
   "cell_type": "code",
   "execution_count": 206,
   "metadata": {},
   "outputs": [
    {
     "data": {
      "image/png": "[encoded data removed]",
      "text/plain": [
       "<Figure size 432x288 with 1 Axes>"
      ]
     },
     "metadata": {
      "needs_background": "light"
     },
     "output_type": "display_data"
    }
   ],
   "source": [
    "pp.plot([i for i in range(len(res_usados))], res_usados)\n",
    "pp.title('Persona - Respiradores Usadas')\n",
    "pp.show()"
   ]
  },
  {
   "cell_type": "code",
   "execution_count": 207,
   "metadata": {},
   "outputs": [
    {
     "data": {
      "image/png": "[encoded data removed]",
      "text/plain": [
       "<Figure size 432x288 with 1 Axes>"
      ]
     },
     "metadata": {
      "needs_background": "light"
     },
     "output_type": "display_data"
    }
   ],
   "source": [
    "pp.plot([i for i in range(len(cam_usadas))], cam_usadas)\n",
    "pp.title('Persona - Camas Usadas')\n",
    "pp.show()"
   ]
  },
  {
   "cell_type": "code",
   "execution_count": 208,
   "metadata": {},
   "outputs": [
    {
     "data": {
      "image/png": "[encoded data removed]",
      "text/plain": [
       "<Figure size 432x288 with 1 Axes>"
      ]
     },
     "metadata": {
      "needs_background": "light"
     },
     "output_type": "display_data"
    }
   ],
   "source": [
    "pp.plot(media, 10, '*',  color = 'red')\n",
    "pp.title('Media Costos')\n",
    "pp.show()\n",
    "costos_totales = []\n",
    "personas_test = []\n",
    "per_cam = []\n",
    "per_res = []\n",
    "res_usados = []\n",
    "cam_usadas = []"
   ]
  },
  {
   "cell_type": "markdown",
   "metadata": {},
   "source": [
    "## Conclusiones\n",
    "\n",
    "Ya que no tenemos para la provincia de ESMERALDAS los datos exactos de recusros que dispone para tratar a pacientes con Covid-19, segun algunas paginas web he llegado a los valores mas cercanos que tienen, segun los datos es una provincia que no tiene un incremento mayor en cuento a crecimiento diario de personas que presentan sintomas, se ha hecho la simulacion con alrededor de 10 - 15 personas con los precios que tienen alrededor centros habilitados para los test y que los precios pueden varias entre 3o y 50 dolares se ha aplicado estos 2 precios para cada test realizado.\n",
    "\n",
    "## Recomendaciones\n",
    "\n",
    "En cuanto a la simulacion se recomienda tener valores exactos para realizar este modelo, ya que se podria apreciar de mejor manera la forma en la que un sector de la poblacion crece a medida que pasan los dias, y de igual manera aplicar la estadistica descriptiva es una buena base para poder consolidar los datos obtenidos.\n",
    "\n",
    "## Opiniones\n",
    "En cuanto a la estadistica descriptiva es muy importatnte tenerla en cuenta al momento de realizar cualquier tipo de modelo en la que impliquen datos reales, gracias a esto podemos escalar la informacion y poder tenerla mas limpia para su posterior analisis."
   ]
  }
 ],
 "metadata": {
  "kernelspec": {
   "display_name": "Python 3",
   "language": "python",
   "name": "python3"
  },
  "language_info": {
   "codemirror_mode": {
    "name": "ipython",
    "version": 3
   },
   "file_extension": ".py",
   "mimetype": "text/x-python",
   "name": "python",
   "nbconvert_exporter": "python",
   "pygments_lexer": "ipython3",
   "version": "3.7.7"
  }
 },
 "nbformat": 4,
 "nbformat_minor": 1
}
