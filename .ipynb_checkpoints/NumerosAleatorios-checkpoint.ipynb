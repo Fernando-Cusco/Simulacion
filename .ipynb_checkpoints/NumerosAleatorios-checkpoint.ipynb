{
 "cells": [
  {
   "cell_type": "markdown",
   "metadata": {},
   "source": [
    "### Tarea Simulación"
   ]
  },
  {
   "cell_type": "markdown",
   "metadata": {},
   "source": [
    "##### Generra 2 numeros pseudoaleatorios (los dados 1-6), deben utilizar 2 librerias diferentes\n",
    "#### Sumar los 2 numeros y generar la tabla\n",
    "#### 100 - 1000 - 10000"
   ]
  },
  {
   "cell_type": "code",
   "execution_count": 19,
   "metadata": {},
   "outputs": [],
   "source": [
    "import numpy as np"
   ]
  },
  {
   "cell_type": "code",
   "execution_count": 8,
   "metadata": {},
   "outputs": [],
   "source": [
    "def generar(cantidad):\n",
    "    caras = [1, 2, 3,4 ,5 ,6]\n",
    "    frecuencias = []\n",
    "    for i in range(1, cantidad+1):\n",
    "        dado1 = np.random.choice(caras)\n",
    "        dado2 = np.random.choice(caras)\n",
    "        frecuencias.append((dado1+dado2))\n",
    "    return frecuencias"
   ]
  },
  {
   "cell_type": "code",
   "execution_count": 9,
   "metadata": {},
   "outputs": [],
   "source": [
    "#frecuencias\n",
    "def contar(lista):\n",
    "    return {i:lista.count(i) for i in lista}"
   ]
  },
  {
   "cell_type": "code",
   "execution_count": 10,
   "metadata": {},
   "outputs": [],
   "source": [
    "def calcularProbabilidad(cantidad):\n",
    "    frecuencia = generar(cantidad)\n",
    "    veces = contar(frecuencia)\n",
    "    print('Suma ','  Veces ', 'Probabilidad')\n",
    "    for i in veces:\n",
    "        print(i,'     ', veces[i],'      ',(veces[i]/10))"
   ]
  },
  {
   "cell_type": "markdown",
   "metadata": {},
   "source": [
    "### 100 números"
   ]
  },
  {
   "cell_type": "code",
   "execution_count": 15,
   "metadata": {},
   "outputs": [
    {
     "name": "stdout",
     "output_type": "stream",
     "text": [
      "Suma    Veces  Probabilidad\n",
      "8       14        1.4\n",
      "4       8        0.8\n",
      "3       14        1.4\n",
      "6       11        1.1\n",
      "7       13        1.3\n",
      "9       12        1.2\n",
      "12       3        0.3\n",
      "11       5        0.5\n",
      "10       5        0.5\n",
      "5       13        1.3\n",
      "2       2        0.2\n"
     ]
    }
   ],
   "source": [
    "calcularProbabilidad(100)"
   ]
  },
  {
   "cell_type": "markdown",
   "metadata": {},
   "source": [
    "### 1000 números"
   ]
  },
  {
   "cell_type": "code",
   "execution_count": 16,
   "metadata": {},
   "outputs": [
    {
     "name": "stdout",
     "output_type": "stream",
     "text": [
      "Suma    Veces  Probabilidad\n",
      "8       119        11.9\n",
      "3       61        6.1\n",
      "4       88        8.8\n",
      "10       104        10.4\n",
      "11       53        5.3\n",
      "7       186        18.6\n",
      "12       25        2.5\n",
      "5       107        10.7\n",
      "9       95        9.5\n",
      "6       132        13.2\n",
      "2       30        3.0\n"
     ]
    }
   ],
   "source": [
    "calcularProbabilidad(1000)"
   ]
  },
  {
   "cell_type": "markdown",
   "metadata": {},
   "source": [
    "### 10000 números"
   ]
  },
  {
   "cell_type": "code",
   "execution_count": 20,
   "metadata": {},
   "outputs": [
    {
     "name": "stdout",
     "output_type": "stream",
     "text": [
      "Suma    Veces  Probabilidad\n",
      "11       513        51.3\n",
      "6       1437        143.7\n",
      "7       1686        168.6\n",
      "4       841        84.1\n",
      "9       1091        109.1\n",
      "8       1380        138.0\n",
      "5       1105        110.5\n",
      "3       535        53.5\n",
      "10       878        87.8\n",
      "2       301        30.1\n",
      "12       233        23.3\n"
     ]
    }
   ],
   "source": [
    "calcularProbabilidad(10000)"
   ]
  }
 ],
 "metadata": {
  "kernelspec": {
   "display_name": "Python 3",
   "language": "python",
   "name": "python3"
  },
  "language_info": {
   "codemirror_mode": {
    "name": "ipython",
    "version": 3
   },
   "file_extension": ".py",
   "mimetype": "text/x-python",
   "name": "python",
   "nbconvert_exporter": "python",
   "pygments_lexer": "ipython3",
   "version": "3.7.7"
  }
 },
 "nbformat": 4,
 "nbformat_minor": 4
}
