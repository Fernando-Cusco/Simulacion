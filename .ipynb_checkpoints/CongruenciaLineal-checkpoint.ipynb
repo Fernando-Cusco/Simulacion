{
 "cells": [
  {
   "cell_type": "markdown",
   "metadata": {},
   "source": [
    "### Método de congruencias lineales"
   ]
  },
  {
   "cell_type": "code",
   "execution_count": 5,
   "metadata": {},
   "outputs": [],
   "source": [
    "a = 3\n",
    "b = 5\n",
    "m = 17\n",
    "x0 = 3432"
   ]
  },
  {
   "cell_type": "code",
   "execution_count": 6,
   "metadata": {},
   "outputs": [
    {
     "name": "stdout",
     "output_type": "stream",
     "text": [
      "Iteración Xn Ui\n",
      "        1 3432   0\n",
      "        2 16   0.9411764705882353\n",
      "        3 2   0.11764705882352941\n",
      "        4 11   0.6470588235294118\n",
      "        5 4   0.23529411764705882\n",
      "        6 0   0.0\n",
      "        7 5   0.29411764705882354\n",
      "        8 3   0.17647058823529413\n",
      "        9 14   0.8235294117647058\n",
      "        10 13   0.7647058823529411\n",
      "        11 10   0.5882352941176471\n",
      "        12 1   0.058823529411764705\n",
      "        13 8   0.47058823529411764\n",
      "        14 12   0.7058823529411765\n",
      "        15 7   0.4117647058823529\n",
      "        16 9   0.5294117647058824\n",
      "        17 15   0.8823529411764706\n",
      "        18 16   0.9411764705882353\n",
      "        19 2   0.11764705882352941\n",
      "        20 11   0.6470588235294118\n",
      "        21 4   0.23529411764705882\n",
      "        22 0   0.0\n",
      "        23 5   0.29411764705882354\n",
      "        24 3   0.17647058823529413\n",
      "        25 14   0.8235294117647058\n",
      "        26 13   0.7647058823529411\n",
      "        27 10   0.5882352941176471\n",
      "        28 1   0.058823529411764705\n",
      "        29 8   0.47058823529411764\n",
      "        30 12   0.7058823529411765\n",
      "        31 7   0.4117647058823529\n",
      "        32 9   0.5294117647058824\n",
      "        33 15   0.8823529411764706\n",
      "        34 16   0.9411764705882353\n"
     ]
    }
   ],
   "source": [
    "tmp = 0\n",
    "xn = 0\n",
    "ui = 0\n",
    "print(\"Iteración\", \"Xn\", \"Ui\")\n",
    "for i in range(1, 35):\n",
    "    if (i == 1):\n",
    "        xn = x0\n",
    "        tmp = xn\n",
    "    else:\n",
    "        xn = (a * (tmp) + b)%m\n",
    "        ui = xn/m\n",
    "        tmp = xn\n",
    "    print(\"       \",i,xn, \" \",ui)      "
   ]
  }
 ],
 "metadata": {
  "kernelspec": {
   "display_name": "Python 3",
   "language": "python",
   "name": "python3"
  },
  "language_info": {
   "codemirror_mode": {
    "name": "ipython",
    "version": 3
   },
   "file_extension": ".py",
   "mimetype": "text/x-python",
   "name": "python",
   "nbconvert_exporter": "python",
   "pygments_lexer": "ipython3",
   "version": "3.7.7"
  }
 },
 "nbformat": 4,
 "nbformat_minor": 4
}
