{
 "cells": [
  {
   "cell_type": "code",
   "execution_count": 1,
   "metadata": {},
   "outputs": [
    {
     "name": "stdout",
     "output_type": "stream",
     "text": [
      "iteracion xn cuadrado Longuitud UI Random\n",
      "1 8370 70056900 8 0569 0.0569\n",
      "2 569 323761 6 2376 0.2376\n",
      "3 2376 5645376 7 6453 0.6453\n",
      "4 6453 41641209 8 6412 0.6412\n",
      "5 6412 41113744 8 1137 0.1137\n",
      "6 1137 1292769 7 2927 0.2927\n",
      "7 2927 8567329 7 5673 0.5673\n",
      "8 5673 32182929 8 1829 0.1829\n",
      "9 1829 3345241 7 3452 0.3452\n"
     ]
    }
   ],
   "source": [
    "x0 = 8370\n",
    "digitos = 4\n",
    "ui = 0\n",
    "print(\"iteracion\", \"xn\", \"cuadrado\", \"Longuitud\", \"UI\", \"Random\")\n",
    "for i in range(1, 10):\n",
    "    if (ui > 0):\n",
    "        xn = ui\n",
    "    else:\n",
    "        xn = x0\n",
    "    cuadrado = str(xn**2)\n",
    "    lon = len(cuadrado)\n",
    "    tem = \"\"\n",
    "    for x in range(int(lon/2)-2, int(lon/2)):\n",
    "        tem += cuadrado[x]\n",
    "    for x in range(int(lon/2), int(lon/2)+2):\n",
    "        tem += cuadrado[x]\n",
    "    ui = int(tem)\n",
    "    print(i, xn, cuadrado, lon, tem, (ui/10000))"
   ]
  }
 ],
 "metadata": {
  "kernelspec": {
   "display_name": "Python 3.7.7 64-bit ('simulacion': conda)",
   "language": "python",
   "name": "python37764bitsimulacioncondaf2928b0ab52d43a8b3be58700693c9ff"
  },
  "language_info": {
   "codemirror_mode": {
    "name": "ipython",
    "version": 3
   },
   "file_extension": ".py",
   "mimetype": "text/x-python",
   "name": "python",
   "nbconvert_exporter": "python",
   "pygments_lexer": "ipython3",
   "version": "3.7.7"
  }
 },
 "nbformat": 4,
 "nbformat_minor": 4
}
