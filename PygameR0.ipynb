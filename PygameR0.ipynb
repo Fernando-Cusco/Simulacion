{
 "cells": [
  {
   "cell_type": "code",
   "execution_count": 1,
   "metadata": {},
   "outputs": [
    {
     "name": "stdout",
     "output_type": "stream",
     "text": [
      "pygame 1.9.6\n",
      "Hello from the pygame community. https://www.pygame.org/contribute.html\n"
     ]
    }
   ],
   "source": [
    "import numpy as np\n",
    "from scipy.integrate import odeint\n",
    "import matplotlib.pyplot as plt\n",
    "import pandas as pd\n",
    "from scipy.integrate import solve_ivp\n",
    "from scipy.optimize import minimize\n",
    "from datetime import timedelta, datetime\n",
    "from scipy.optimize import curve_fit\n",
    "from sklearn.linear_model import LinearRegression \n",
    "from sklearn.preprocessing import PolynomialFeatures \n",
    "from scipy.integrate import solve_ivp\n",
    "from scipy.optimize import minimize\n",
    "from scipy.integrate import odeint\n",
    "from random import randrange # Obtener un numero randomico\n",
    "import pygame"
   ]
  },
  {
   "cell_type": "markdown",
   "metadata": {},
   "source": [
    "#### R0 obtenido a partir del SIR"
   ]
  },
  {
   "cell_type": "code",
   "execution_count": 2,
   "metadata": {},
   "outputs": [],
   "source": [
    "data = pd.read_csv('https://raw.githubusercontent.com/datasets/covid-19/master/data/time-series-19-covid-combined.csv')\n",
    "data = data[data['Country/Region'].isin(['Ecuador'])] #Filtro la Informacion solo para Ecuador\n",
    "data = data.loc[:,['Date','Confirmed','Recovered']]\n",
    "formato = '%Y-%m-%d'\n",
    "date = data['Date']\n",
    "data['Date'] = date.map(lambda x : (datetime.strptime(x, formato) - datetime.strptime(\"2020-03-01\", formato)).days)"
   ]
  },
  {
   "cell_type": "code",
   "execution_count": 3,
   "metadata": {},
   "outputs": [
    {
     "data": {
      "image/png": "[encoded data removed]",
      "text/plain": [
       "<Figure size 432x288 with 1 Axes>"
      ]
     },
     "metadata": {
      "needs_background": "light"
     },
     "output_type": "display_data"
    }
   ],
   "source": [
    "x=np.arange(1,len(data['Date'])+1,1)\n",
    "y = data.iloc [:, 1]\n",
    "\n",
    "def func(fx, n, e):\n",
    "    return (n*np.exp(e*fx))\n",
    "popt, pcov = curve_fit(func, x, y)\n",
    "\n",
    "pred_x = np.array(list(range(min(x),max(x)+5)))\n",
    "plt.plot(func(pred_x ,*popt), pred_x)\n",
    "plt.plot(x, y)\n",
    "I00=func(pred_x ,*popt)[-1:]\n",
    "I0=int(float(I00[0]))"
   ]
  },
  {
   "cell_type": "code",
   "execution_count": 4,
   "metadata": {},
   "outputs": [
    {
     "data": {
      "text/plain": [
       "[<matplotlib.lines.Line2D at 0x124b36e50>]"
      ]
     },
     "execution_count": 4,
     "metadata": {},
     "output_type": "execute_result"
    },
    {
     "data": {
      "image/png": "[encoded data removed]",
      "text/plain": [
       "<Figure size 432x288 with 1 Axes>"
      ]
     },
     "metadata": {
      "needs_background": "light"
     },
     "output_type": "display_data"
    }
   ],
   "source": [
    "def loss(point, datos, recovered,s0,i0, r0):\n",
    "    size = len(datos)\n",
    "    beta, gamma = point\n",
    "    def SIR(t, y):\n",
    "        S = y[0]\n",
    "        I = y[1]\n",
    "        R = y[2]\n",
    "        return [-beta*S*I, beta*S*I-gamma*I, gamma*I]\n",
    "    solution = solve_ivp(SIR, [0, size], [s0,i0,r0], t_eval=np.arange(0, size, 1), vectorized=True)\n",
    "    l1 = np.sqrt(np.mean((solution.y[1] - datos)**2))\n",
    "    l2 = np.sqrt(np.mean((solution.y[2] - recovered)**2))\n",
    "    alpha =0.1\n",
    "    return alpha * l1 + (1 - alpha) * l2\n",
    "#Numero habitantes del Ecuador\n",
    "N=170000\n",
    "#casos confirmados\n",
    "i0=9001\n",
    "#Recuperados\n",
    "r0=1000\n",
    "#Resto de la poblacion\n",
    "s0= N - i0 - r0\n",
    "recovered=list(data.iloc [:, 2])\n",
    "y=list(data.iloc [:, 1])\n",
    "datos=list(data.iloc [:, 1])\n",
    "d=[x1 - x2 for (x1, x2) in zip(datos,recovered)]\n",
    "optimal = minimize(loss, [0.001, 0.001], args=(d, recovered, s0, i0, i0), method='L-BFGS-B', bounds=[(0.0000003, 0.004), (0.00000001, 0.004)])\n",
    "beta, gamma = optimal.x\n",
    "\n",
    "R00=(beta/gamma)\n",
    "\n",
    "new_index =y\n",
    "size = len(new_index)\n",
    "numero=len(func(pred_x ,*popt))-len(pred_x)\n",
    "ea = np.concatenate((y, [None] * (size - len(y))))\n",
    "er = np.concatenate((func(pred_x ,*popt)[:-numero], [None] * (size - len(func(pred_x ,*popt)[:-numero]))))\n",
    "\n",
    "\n",
    "t = np.linspace(0, 200,200)\n",
    "xa=t[0:len(data.iloc [:, 1])]\n",
    "\n",
    "def deriv(y, t, beta, gamma):\n",
    "    S, I, R = y\n",
    "    dSdt = -beta * S * I \n",
    "    dIdt = beta * S * I- gamma * I\n",
    "    dRdt = gamma * I\n",
    "    return dSdt, dIdt, dRdt\n",
    "\n",
    "y0 = s0,i0,r0\n",
    "\n",
    "ret = odeint(deriv, y0, t, args=(beta, gamma))\n",
    "\n",
    "S, I, R = ret.T # Obtenicion de resultados\n",
    "\n",
    "# S.I.R\n",
    "plt.plot(t, S)\n",
    "plt.plot(t, I)\n",
    "plt.plot(t, R)"
   ]
  },
  {
   "cell_type": "code",
   "execution_count": null,
   "metadata": {},
   "outputs": [],
   "source": [
    "#Parametros de inicio\n",
    "PROBA_MUERTE = 9.2  # Probabilidad de que la gente muera COVID\n",
    "CONTAGION_RATE = R00  # Factor R0 para la simulacion COVID probabilidad\n",
    "PROBA_INFECT = CONTAGION_RATE * 10\n",
    "PROBA_VACU = 0 # Probabilidad de que exista una vacuna, COVID = 0\n",
    "SIMULACION_SPEED = 50 # Tiempo de un dia en milisegundos (Cada 25 es un dia)\n",
    "nb_rows = 50 #Numero de filas\n",
    "nb_cols = 50 #Numero de columnas\n",
    "\n",
    "global display, myfont, states, states_temp #Declaracion de variables globales\n",
    "\n",
    "#Declaro colores en formato RGB\n",
    "WHITE = (255, 255, 255) \n",
    "BLUE = (0, 0, 255)\n",
    "GREEN = (0, 247, 0)\n",
    "BLACK = (0, 0, 0)\n",
    "#Obtiene los vecinos dado un punto x,y\n",
    "def get_vecinos(x, y):\n",
    "    incx = randrange(3)\n",
    "    incy = randrange(3)\n",
    "    incx = (incx * 1) - 1\n",
    "    incy = (incy * 1) - 1\n",
    "    x2 = x + incx\n",
    "    y2 = y + incy\n",
    "    #Validar limites\n",
    "    if x2 < 0:\n",
    "        x2 = 0\n",
    "    if x2 >= nb_cols:\n",
    "        x2 = nb_cols - 1\n",
    "    if y2 < 0:\n",
    "        y2 = 0\n",
    "    if y2 >= nb_rows:\n",
    "        y2 = nb_rows - 1\n",
    "    return [x2, y2] # Nuevos contagiados\n",
    "\n",
    "#Genero las personas que cuentan con inmunidad o vacuna \n",
    "def vacunar():\n",
    "    for x in range(nb_cols):\n",
    "        for y in range(nb_rows):\n",
    "            if randrange(99) < PROBA_VACU:\n",
    "                states[x][y] = 1\n",
    "\n",
    "#Funcion que permite contar el numero de muertosde la matriz states == -1\n",
    "def contar_muertes():\n",
    "    contador = 0\n",
    "    for x in range(nb_cols):\n",
    "        for y in range(nb_rows):\n",
    "            if states[x][y] == -1:\n",
    "                contador +=  1\n",
    "    return contador\n",
    "#Definimos datos de inicio\n",
    "states = [[0] * nb_cols for i1 in range(nb_rows)]\n",
    "states_temp = states.copy()\n",
    "states[randrange(50)][randrange(50)] = 10 # Estado inicial de la simulacion Posicion del Infectado\n",
    "it = 0 # Variable para contar las Iteraciones\n",
    "total_muerte = 0 # Contabiliza el numero de muertos\n",
    "vacunar() #Llamar a la funcion vacunar\n",
    "\n",
    "pygame.init() #Incializo el motor de juegos pygame\n",
    "pygame.font.init() #Inicializo el tipo de letra\n",
    "display=pygame.display.set_mode((800,750),0,32) #Tamanio de la ventana\n",
    "pygame.display.set_caption(\"Simulacion de Epidemia Covid-19 Ecuador\")# Titulo\n",
    "font=pygame.font.SysFont('Calibri', 40) # Tipo de letra\n",
    "display.fill(WHITE) # Color de fondo\n",
    "while True:\n",
    "    pygame.time.delay(SIMULACION_SPEED) # Sleep o pausa\n",
    "    it = it + 1\n",
    "    if it <= 10000 and it >= 2:\n",
    "        states_temp = states.copy() #Copia de la matriz\n",
    "        #Recorrera la matriz\n",
    "        for x in range(nb_cols):\n",
    "            for y in range(nb_rows):\n",
    "                state = states[x][y]\n",
    "                if state == -1:\n",
    "                    pass\n",
    "                if state >= 10: # Numero de dias de contagio\n",
    "                    states_temp[x][y] = state + 1\n",
    "                if state >= 20:\n",
    "                    if randrange(99) < PROBA_MUERTE: # Genero un randomico para verificar si fallece o se recupera\n",
    "                        states_temp[x][y] = -1 # Muere\n",
    "                    else:\n",
    "                        states_temp[x][y] = 1 # Cura o recupera\n",
    "                if state >= 10 and state <= 20: # Rango de infectado\n",
    "                    if randrange(99) < PROBA_INFECT: # Infecto a las personas cercanas entre  10 y 20 \n",
    "                        neighbour = get_vecinos(x, y) #Obtenemos los vecinos a contagiar\n",
    "                        x2 = neighbour[0]\n",
    "                        y2 = neighbour[1]\n",
    "                        neigh_state = states[x2][y2]\n",
    "                        if neigh_state == 0: #Verifico que este sano\n",
    "                            states_temp[x2][y2] = 10 # Contagia\n",
    "        states = states_temp.copy()\n",
    "        total_muerte = contar_muertes() # contar el numero de muertos\n",
    "        \n",
    "    pygame.draw.rect(display, WHITE, (250, 30, 260, 50)) # Grafico el fondo\n",
    "    textsurface = font.render(\"Total muertes: \"+ str(total_muerte), False, (255,160,122)) #El numero de muertos\n",
    "    display.blit(textsurface, (250, 30)) # Graficar el texto de muertes\n",
    "    #Graficar el estado del paciente matriz\n",
    "    for x in range(nb_cols):\n",
    "        for y in range(nb_rows):\n",
    "            if states[x][y] == 0:\n",
    "                color = BLUE # No infectado\n",
    "            if states[x][y] == 1:\n",
    "                color = GREEN # Recupero\n",
    "            if states[x][y] >= 10:\n",
    "                color = (states[x][y] * 12, 50, 50) # Injectado - Rojo\n",
    "            if states[x][y] == -1:\n",
    "                color = BLACK # Muerto\n",
    "            pygame.draw.circle(display, color, (100 + x * 12 + 5, 100 + y * 12 + 5), 5)\n",
    "            pygame.draw.rect(display, WHITE, (100 + x * 12 + 3, 100 + y * 12 + 4, 1, 1))\n",
    "    #Escuachar los eventos del teclado\n",
    "    for event in pygame.event.get():\n",
    "        if event.type == pygame.KEYDOWN and event.key == pygame.K_ESCAPE: #Presiona y Escape\n",
    "            pygame.quit() #Termino simulacion\n",
    "        if event.type == pygame.KEYDOWN and event.key == pygame.K_SPACE: #Presiona y espacio\n",
    "            #Reiniciamos valores\n",
    "            states = [[0] * nb_cols for i1 in range(nb_rows)]\n",
    "            states_temp = states.copy()\n",
    "            states[5][5] = 10\n",
    "            it = 0\n",
    "            total_muerte = 0\n",
    "            vacunar() #Llamar a la funcion vacunar\n",
    "    pygame.display.update()# Mandar actualizar la ventana"
   ]
  },
  {
   "cell_type": "markdown",
   "metadata": {},
   "source": [
    "#### Predicción 7 dias"
   ]
  },
  {
   "cell_type": "code",
   "execution_count": 5,
   "metadata": {},
   "outputs": [
    {
     "data": {
      "image/png": "[encoded data removed]",
      "text/plain": [
       "<Figure size 432x288 with 1 Axes>"
      ]
     },
     "metadata": {
      "needs_background": "light"
     },
     "output_type": "display_data"
    }
   ],
   "source": [
    "x=np.arange(1,len(data['Date'])+1,1)\n",
    "y = data.iloc [:, 1]\n",
    "\n",
    "def func(x, c, k):\n",
    "    return (c*np.exp(k*x))\n",
    "popt, pcov = curve_fit(func, x, y)\n",
    "\n",
    "pred_x = np.array(list(range(min(x),max(x)+7)))\n",
    "plt.plot(func(pred_x ,*popt), pred_x)\n",
    "plt.plot(x, y)\n",
    "I00=func(pred_x ,*popt)[-1:]\n",
    "I0=int( float(I00[0]) )"
   ]
  },
  {
   "cell_type": "code",
   "execution_count": 6,
   "metadata": {},
   "outputs": [
    {
     "data": {
      "text/plain": [
       "[<matplotlib.lines.Line2D at 0x124d0ee50>]"
      ]
     },
     "execution_count": 6,
     "metadata": {},
     "output_type": "execute_result"
    },
    {
     "data": {
      "image/png": "[encoded data removed]",
      "text/plain": [
       "<Figure size 432x288 with 1 Axes>"
      ]
     },
     "metadata": {
      "needs_background": "light"
     },
     "output_type": "display_data"
    }
   ],
   "source": [
    "def loss(point, datos, recovered,s0,i0, r0):\n",
    "    size = len(datos)\n",
    "    beta, gamma = point\n",
    "    def SIR(t, y):\n",
    "        S = y[0]\n",
    "        I = y[1]\n",
    "        R = y[2]\n",
    "        return [-beta*S*I, beta*S*I-gamma*I, gamma*I]\n",
    "    solution = solve_ivp(SIR, [0, size], [s0,i0,r0], t_eval=np.arange(0, size, 1), vectorized=True)\n",
    "    l1 = np.sqrt(np.mean((solution.y[1] - datos)**2))\n",
    "    l2 = np.sqrt(np.mean((solution.y[2] - recovered)**2))\n",
    "    alpha =0.1\n",
    "    return alpha * l1 + (1 - alpha) * l2\n",
    "#Numero habitantes del Ecuador\n",
    "#Numero habitantes del Ecuador\n",
    "N=170000\n",
    "#casos confirmados\n",
    "i0=9001\n",
    "#Recuperados\n",
    "r0=1000\n",
    "#Resto de la poblacion\n",
    "s0= N - i0 - r0\n",
    "recovered=list(data.iloc [:, 2])\n",
    "y=list(data.iloc [:, 1])\n",
    "datos=list(data.iloc [:, 1])\n",
    "d=[x1 - x2 for (x1, x2) in zip(datos,recovered)]\n",
    "optimal = minimize(loss, [0.001, 0.001], args=(d, recovered, s0, i0, i0), method='L-BFGS-B', bounds=[(0.0000003, 0.04), (0.0000001, 0.04)])\n",
    "beta, gamma = optimal.x\n",
    "\n",
    "R00=beta/gamma\n",
    "\n",
    "new_index =y\n",
    "size = len(new_index)\n",
    "ea = np.concatenate((y, [None] * (size - len(y))))\n",
    "numero=len(func(pred_x ,*popt))-len(pred_x)\n",
    "er = er = np.concatenate((func(pred_x ,*popt)[:-numero], [None] * (size - len(func(pred_x ,*popt)[:-numero]))))\n",
    "\n",
    "t = np.linspace(0, 250,250)\n",
    "xa=t[0:len(data.iloc [:, 1])]\n",
    "\n",
    "def deriv(y, t, beta, gamma):\n",
    "    S, I, R = y\n",
    "    dSdt = -beta * S * I \n",
    "    dIdt = beta * S * I- gamma * I\n",
    "    dRdt = gamma * I\n",
    "    return dSdt, dIdt, dRdt\n",
    "\n",
    "y0 = s0,i0,r0\n",
    "\n",
    "ret = odeint(deriv, y0, t, args=(beta, gamma))\n",
    "\n",
    "S, I, R = ret.T\n",
    "plt.plot(t, S)\n",
    "plt.plot(t, I)\n",
    "plt.plot(t, R)"
   ]
  },
  {
   "cell_type": "code",
   "execution_count": 18,
   "metadata": {},
   "outputs": [
    {
     "ename": "error",
     "evalue": "video system not initialized",
     "output_type": "error",
     "traceback": [
      "\u001b[0;31m---------------------------------------------------------------------------\u001b[0m",
      "\u001b[0;31merror\u001b[0m                                     Traceback (most recent call last)",
      "\u001b[0;32m<ipython-input-18-d31193e68071>\u001b[0m in \u001b[0;36m<module>\u001b[0;34m\u001b[0m\n\u001b[1;32m    124\u001b[0m             \u001b[0mvacunar\u001b[0m\u001b[0;34m(\u001b[0m\u001b[0;34m)\u001b[0m \u001b[0;31m#Llamar a la funcion vacunar\u001b[0m\u001b[0;34m\u001b[0m\u001b[0;34m\u001b[0m\u001b[0m\n\u001b[1;32m    125\u001b[0m \u001b[0;34m\u001b[0m\u001b[0m\n\u001b[0;32m--> 126\u001b[0;31m     \u001b[0mpygame\u001b[0m\u001b[0;34m.\u001b[0m\u001b[0mdisplay\u001b[0m\u001b[0;34m.\u001b[0m\u001b[0mupdate\u001b[0m\u001b[0;34m(\u001b[0m\u001b[0;34m)\u001b[0m\u001b[0;31m# Mandar actualizar la ventana\u001b[0m\u001b[0;34m\u001b[0m\u001b[0;34m\u001b[0m\u001b[0m\n\u001b[0m",
      "\u001b[0;31merror\u001b[0m: video system not initialized"
     ]
    }
   ],
   "source": [
    "#Parametros de inicio\n",
    "PROBA_MUERTE =9.2  # Probabilidad de que la gente muera COVID\n",
    "CONTAGION_RATE = 4  # Factor R0 para la simulacion COVID probabilidad\n",
    "PROBA_INFECT = CONTAGION_RATE * 10\n",
    "PROBA_VACU = 0 # Probabilidad de que exista una vacuna, COVID = 0\n",
    "SIMULACION_SPEED = 50 # Tiempo de un dia en milisegundos (Cada 25 es un dia)\n",
    "nb_rows = 50 #Numero de filas\n",
    "nb_cols = 50 #Numero de columnas\n",
    "\n",
    "global display, myfont, states, states_temp #Declaracion de variables globales\n",
    "\n",
    "#Declaro colores en formato RGB\n",
    "WHITE = (255, 255, 255) \n",
    "BLUE = (0, 0, 255)\n",
    "GREEN = (0, 247, 0)\n",
    "BLACK = (0, 0, 0)\n",
    "\n",
    "#Obtiene los vecinos dado un punto x,y\n",
    "def get_vecinos(x, y):\n",
    "    incx = randrange(3)\n",
    "    incy = randrange(3)\n",
    "    incx = (incx * 1) - 1\n",
    "    incy = (incy * 1) - 1\n",
    "    x2 = x + incx\n",
    "    y2 = y + incy\n",
    "    #Validar limites\n",
    "    if x2 < 0:\n",
    "        x2 = 0\n",
    "    if x2 >= nb_cols:\n",
    "        x2 = nb_cols - 1\n",
    "    if y2 < 0:\n",
    "        y2 = 0\n",
    "    if y2 >= nb_rows:\n",
    "        y2 = nb_rows - 1\n",
    "    return [x2, y2] # Nuevos contagiados\n",
    "\n",
    "#Genero las personas que cuentan con inmunidad o vacuna \n",
    "def vacunar():\n",
    "    for x in range(nb_cols):\n",
    "        for y in range(nb_rows):\n",
    "            if randrange(99) < PROBA_VACU:\n",
    "                states[x][y] = 1\n",
    "\n",
    "#Funcion que permite contar el numero de muertosde la matriz states == -1\n",
    "def contar_muertes():\n",
    "    contador = 0\n",
    "    for x in range(nb_cols):\n",
    "        for y in range(nb_rows):\n",
    "            if states[x][y] == -1:\n",
    "                contador +=  1\n",
    "    return contador\n",
    "\n",
    "#Definimos datos de inicio\n",
    "states = [[0] * nb_cols for i1 in range(nb_rows)]\n",
    "states_temp = states.copy()\n",
    "states[randrange(50)][randrange(50)] = 10 # Estado inicial de la simulacion Posicion del Infectado\n",
    "it = 0 # Variable para contar las Iteraciones\n",
    "total_muerte = 0 # Contabiliza el numero de muertos\n",
    "vacunar() #Llamar a la funcion vacunar\n",
    "\n",
    "pygame.init() #Incializo el motor de juegos pygame\n",
    "pygame.font.init() #Inicializo el tipo de letra\n",
    "display=pygame.display.set_mode((800,750),0,32) #Tamanio de la ventana\n",
    "pygame.display.set_caption(\"Simulacion de Epidemia Covid-19 Ecuador\")# Titulo\n",
    "font=pygame.font.SysFont('Calibri', 40) # Tipo de letra\n",
    "display.fill(WHITE) # Color de fondo\n",
    "\n",
    "while True:\n",
    "    pygame.time.delay(SIMULACION_SPEED) # Sleep o pausa\n",
    "    it = it + 1\n",
    "    if it <= 10000 and it >= 2:\n",
    "        states_temp = states.copy() #Copia de la matriz\n",
    "        #Recorrera la matriz\n",
    "        for x in range(nb_cols):\n",
    "            for y in range(nb_rows):\n",
    "                state = states[x][y]\n",
    "                if state == -1:\n",
    "                    pass\n",
    "                if state >= 10: # Numero de dias de contagio\n",
    "                    states_temp[x][y] = state + 1\n",
    "                if state >= 20:\n",
    "                    if randrange(99) < PROBA_MUERTE: # Genero un randomico para verificar si fallece o se recupera\n",
    "                        states_temp[x][y] = -1 # Muere\n",
    "                    else:\n",
    "                        states_temp[x][y] = 1 # Cura o recupera\n",
    "                if state >= 10 and state <= 20: # Rango de infectado\n",
    "                    if randrange(99) < PROBA_INFECT: # Infecto a las personas cercanas entre  10 y 20 \n",
    "                        neighbour = get_vecinos(x, y) #Obtenemos los vecinos a contagiar\n",
    "                        x2 = neighbour[0]\n",
    "                        y2 = neighbour[1]\n",
    "                        neigh_state = states[x2][y2]\n",
    "                        if neigh_state == 0: #Verifico que este sano\n",
    "                            states_temp[x2][y2] = 10 # Contagia\n",
    "        states = states_temp.copy()\n",
    "        total_muerte = contar_muertes() # contar el numero de muertos\n",
    "        \n",
    "    pygame.draw.rect(display, WHITE, (250, 30, 260, 50)) # Grafico el fondo\n",
    "    textsurface = font.render(\"Total muertes: \"+ str(total_muerte), False, (255,160,122)) #El numero de muertos\n",
    "    display.blit(textsurface, (250, 30)) # Graficar el texto de muertes\n",
    "    #Graficar el estado del paciente matriz\n",
    "    for x in range(nb_cols):\n",
    "        for y in range(nb_rows):\n",
    "            if states[x][y] == 0:\n",
    "                color = BLUE # No infectado\n",
    "            if states[x][y] == 1:\n",
    "                color = GREEN # Recupero\n",
    "            if states[x][y] >= 10:\n",
    "                color = (states[x][y] * 12, 50, 50) # Injectado - Rojo\n",
    "            if states[x][y] == -1:\n",
    "                color = BLACK # Muerto\n",
    "            pygame.draw.circle(display, color, (100 + x * 12 + 5, 100 + y * 12 + 5), 5)\n",
    "            pygame.draw.rect(display, WHITE, (100 + x * 12 + 3, 100 + y * 12 + 4, 1, 1))\n",
    "    #Escuachar los eventos del teclado\n",
    "    for event in pygame.event.get():\n",
    "        if event.type == pygame.KEYDOWN and event.key == pygame.K_ESCAPE: #Presiona y Escape\n",
    "            pygame.quit() #Termino simulacion\n",
    "        if event.type == pygame.KEYDOWN and event.key == pygame.K_SPACE: #Presiona y espacio\n",
    "            #Reiniciamos valores\n",
    "            states = [[0] * nb_cols for i1 in range(nb_rows)]\n",
    "            states_temp = states.copy()\n",
    "            states[5][5] = 10\n",
    "            it = 0\n",
    "            total_muerte = 0\n",
    "            vacunar() #Llamar a la funcion vacunar\n",
    "            \n",
    "    pygame.display.update()# Mandar actualizar la ventana"
   ]
  },
  {
   "cell_type": "markdown",
   "metadata": {},
   "source": [
    "#### R0 con las medidas realizadas por el Ecuador, obtenemos el R0 solo de los dias sin cuarentena y lo evaluan con los las acciones de la cuarentena."
   ]
  },
  {
   "cell_type": "code",
   "execution_count": 15,
   "metadata": {},
   "outputs": [
    {
     "data": {
      "image/png": "[encoded data removed]",
      "text/plain": [
       "<Figure size 432x288 with 1 Axes>"
      ]
     },
     "metadata": {
      "needs_background": "light"
     },
     "output_type": "display_data"
    }
   ],
   "source": [
    "x=np.arange(1,len(data['Date'])+1,1)\n",
    "y = data.iloc [:, 1]\n",
    "\n",
    "\n",
    "\n",
    "def func(fx, n, e):\n",
    "    return (n*np.exp(e*fx))\n",
    "popt, pcov = curve_fit(func, x, y)\n",
    "\n",
    "#Predecir para una semana\n",
    "pred_x = np.array(list(range(min(x),max(x)+8)))\n",
    "plt.plot(func(pred_x ,*popt), pred_x)\n",
    "plt.plot(x, y)\n",
    "I00=func(pred_x ,*popt)[-1:]\n",
    "I0=int( float(I00[0]) )\n",
    "\n",
    "#Modelo SIR\n",
    "def loss(point, datos, recovered,s0,i0, r0):\n",
    "    size = len(datos)\n",
    "    beta, gamma = point\n",
    "    def SIR(t, y):\n",
    "        S = y[0]\n",
    "        I = y[1]\n",
    "        R = y[2]\n",
    "        return [-beta*S*I, beta*S*I-gamma*I, gamma*I]\n",
    "    solution = solve_ivp(SIR, [0, size], [s0,i0,r0], t_eval=np.arange(0, size, 1), vectorized=True)\n",
    "    l1 = np.sqrt(np.mean((solution.y[1] - datos)**2))\n",
    "    l2 = np.sqrt(np.mean((solution.y[2] - recovered)**2))\n",
    "    alpha =0.1\n",
    "    return alpha * l1 + (1 - alpha) * l2\n",
    "#Numero habitantes del Ecuador\n",
    "#Numero habitantes del Ecuador\n",
    "N=170000\n",
    "#casos confirmados\n",
    "i0=9001\n",
    "#Recuperados\n",
    "r0=1000\n",
    "#Resto de la poblacion\n",
    "s0= N - i0 - r0\n",
    "recovered=list(data.iloc [:, 2])\n",
    "\n",
    "y = data.iloc [:, 1]\n",
    "\n",
    "\n",
    "datos=list(data.iloc [:, 1])\n",
    "\n",
    "d=[x1 - x2 for (x1, x2) in zip(datos,recovered)]\n",
    "optimal = minimize(loss, [0.001, 0.001], args=(d, recovered, s0, i0, i0), method='L-BFGS-B', bounds=[(0.00000003, 0.004), (0.00000001, 0.004)])\n",
    "beta, gamma = optimal.x\n",
    "\n",
    "R00=(beta/gamma)*1000\n",
    "\n",
    "new_index =y\n",
    "size = len(new_index)\n",
    "ea = np.concatenate((y, [None] * (size - len(y))))\n",
    "numero=len(func(pred_x ,*popt))-len(pred_x)\n",
    "er = er = np.concatenate((func(pred_x ,*popt)[:-numero], [None] * (size - len(func(pred_x ,*popt)[:-numero]))))\n",
    "\n",
    "\n",
    "\n",
    "t = np.linspace(0, 200,200)\n",
    "xa=t[0:len(data.iloc [:, 1])]\n",
    "# Las ecuaciones diferenciales del modelo SIR..\n",
    "def deriv(y, t, beta, gamma):\n",
    "    S, I, R = y\n",
    "    dSdt = -beta * S * I \n",
    "    dIdt = beta * S * I- gamma * I\n",
    "    dRdt = gamma * I\n",
    "    return dSdt, dIdt, dRdt\n",
    "# Vector de condiciones iniciales\n",
    "y0 = s0,i0,r0\n",
    "\n",
    "# Integre las ecuaciones SIR en la cuadrícula de tiempo, t. A traves de la funcion odeint()\n",
    "ret = odeint(deriv, y0, t, args=(beta, gamma))\n",
    "\n",
    "S, I, R = ret.T # Obtenicion de resultados\n"
   ]
  },
  {
   "cell_type": "code",
   "execution_count": 13,
   "metadata": {},
   "outputs": [
    {
     "data": {
      "text/plain": [
       "[<matplotlib.lines.Line2D at 0x12456a650>]"
      ]
     },
     "execution_count": 13,
     "metadata": {},
     "output_type": "execute_result"
    },
    {
     "data": {
      "image/png": "[encoded data removed]",
      "text/plain": [
       "<Figure size 432x288 with 1 Axes>"
      ]
     },
     "metadata": {
      "needs_background": "light"
     },
     "output_type": "display_data"
    }
   ],
   "source": [
    "plt.plot(t, S)\n",
    "plt.plot(t, I)\n",
    "plt.plot(t, R)"
   ]
  },
  {
   "cell_type": "markdown",
   "metadata": {},
   "source": [
    "### Conclusiones\n",
    "###### Gracias a la simpleza modelo S.I.R podemos capturar mucha informacion en este caso sobre Covid-19, de esta manera podemos anticiparnos al futuro de esta pandemia, con cada parametro que vaya variando en el modelo el resultado final sera muy distinto de otro."
   ]
  }
 ],
 "metadata": {
  "kernelspec": {
   "display_name": "Python 3",
   "language": "python",
   "name": "python3"
  },
  "language_info": {
   "codemirror_mode": {
    "name": "ipython",
    "version": 3
   },
   "file_extension": ".py",
   "mimetype": "text/x-python",
   "name": "python",
   "nbconvert_exporter": "python",
   "pygments_lexer": "ipython3",
   "version": "3.7.7"
  }
 },
 "nbformat": 4,
 "nbformat_minor": 4
}
