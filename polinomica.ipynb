{
 "cells": [
  {
   "cell_type": "code",
   "execution_count": 5,
   "metadata": {},
   "outputs": [],
   "source": [
    "import pandas as pd\n",
    "import numpy as np\n",
    "import matplotlib.pyplot as plt\n",
    "from datetime import datetime, timedelta\n",
    "from sklearn.preprocessing import PolynomialFeatures"
   ]
  },
  {
   "cell_type": "code",
   "execution_count": 4,
   "metadata": {},
   "outputs": [],
   "source": [
    "#cargamos nuestro set de datos\n",
    "data = pd.read_csv('data.csv')\n",
    "data = data[data['Country/Region'].isin(['Ecuador'])]\n",
    "#y = list(df.iloc [:, 1]) # Numero de casos\n",
    "#obtenemos datos de los casos confirmados\n",
    "infectados = list(data.iloc[:, 5])\n",
    "formatoFecha = '%Y-%m-%d'\n",
    "fecha = data['Date']\n",
    "data['Date'] = fecha.map(lambda x: (datetime.strptime(x, formatoFecha) - datetime.strptime('2020-01-22', formatoFecha)).days)\n",
    "dias = list(data['Date'])"
   ]
  },
  {
   "cell_type": "code",
   "execution_count": 33,
   "metadata": {
    "scrolled": true
   },
   "outputs": [
    {
     "data": {
      "text/plain": [
       "[<matplotlib.lines.Line2D at 0x1230400d0>,\n",
       " <matplotlib.lines.Line2D at 0x1230402d0>,\n",
       " <matplotlib.lines.Line2D at 0x123040490>,\n",
       " <matplotlib.lines.Line2D at 0x123040650>,\n",
       " <matplotlib.lines.Line2D at 0x123040810>]"
      ]
     },
     "execution_count": 33,
     "metadata": {},
     "output_type": "execute_result"
    },
    {
     "data": {
      "image/png": "[encoded data removed]",
      "text/plain": [
       "<Figure size 432x288 with 1 Axes>"
      ]
     },
     "metadata": {
      "needs_background": "light"
     },
     "output_type": "display_data"
    }
   ],
   "source": [
    "poly = PolynomialFeatures(degree=4)\n",
    "x = np.array(dias).reshape(-1, 1)\n",
    "y = np.array(infectados).reshape(-1, 1)\n",
    "plt.plot(poly.fit_transform(x), poly.fit_transform(y), '-')"
   ]
  }
 ],
 "metadata": {
  "kernelspec": {
   "display_name": "Python 3",
   "language": "python",
   "name": "python3"
  },
  "language_info": {
   "codemirror_mode": {
    "name": "ipython",
    "version": 3
   },
   "file_extension": ".py",
   "mimetype": "text/x-python",
   "name": "python",
   "nbconvert_exporter": "python",
   "pygments_lexer": "ipython3",
   "version": "3.7.7"
  }
 },
 "nbformat": 4,
 "nbformat_minor": 4
}
