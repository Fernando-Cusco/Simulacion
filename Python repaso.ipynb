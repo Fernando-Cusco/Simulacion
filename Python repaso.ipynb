{
 "cells": [
  {
   "cell_type": "markdown",
   "metadata": {},
   "source": [
    "### Python repaso\n",
    "- _**Materia: Simulación**_\n",
    "- _**Docente: Ing. Diego Quisi**_\n",
    "- _**Fernando Cusco**_"
   ]
  },
  {
   "cell_type": "markdown",
   "metadata": {},
   "source": [
    "### `Ejercicios`"
   ]
  },
  {
   "cell_type": "markdown",
   "metadata": {},
   "source": [
    "### Ejercicio 1\n",
    "#### Pasar a escala de grises el color codificado en los elmentos de la lista 'pixel'"
   ]
  },
  {
   "cell_type": "code",
   "execution_count": 6,
   "metadata": {},
   "outputs": [
    {
     "name": "stdout",
     "output_type": "stream",
     "text": [
      "La intensidad es:  0.4333333333333333\n"
     ]
    }
   ],
   "source": [
    "pixel = [0.6, 0.3, 0.4]\n",
    "intensidad = sum(pixel)/3\n",
    "print('La intensidad es: ',intensidad)\n"
   ]
  },
  {
   "cell_type": "markdown",
   "metadata": {},
   "source": [
    "### Ejercicio 2\n",
    "#### Pasar a blanco y negro el valor de intensidad codificado en la variable intensidad\n"
   ]
  },
  {
   "cell_type": "code",
   "execution_count": 7,
   "metadata": {},
   "outputs": [
    {
     "name": "stdout",
     "output_type": "stream",
     "text": [
      "Pixel negro 0\n"
     ]
    }
   ],
   "source": [
    "bw = 0\n",
    "if bw > 0.5:\n",
    "    print('Pixel blanco', bw)\n",
    "else:\n",
    "    print('Pixel negro', bw)"
   ]
  },
  {
   "cell_type": "markdown",
   "metadata": {},
   "source": [
    "### Ejercicio 3\n",
    "#### Escribir un for para buscar el maximo de una lista e imprimirlo"
   ]
  },
  {
   "cell_type": "code",
   "execution_count": 10,
   "metadata": {},
   "outputs": [
    {
     "name": "stdout",
     "output_type": "stream",
     "text": [
      "Numero maximo es:  53\n"
     ]
    }
   ],
   "source": [
    "lista = [44, 11, 15, 29, 53, 12, 30]\n",
    "t = lista[1]\n",
    "p = 0\n",
    "for i in range(0, len(lista)):\n",
    "    if(i != len(lista)):\n",
    "        if(lista[i] > t):\n",
    "            t = lista[i]\n",
    "            p = i\n",
    "print('Numero maximo es: ',lista[p])"
   ]
  },
  {
   "cell_type": "markdown",
   "metadata": {},
   "source": [
    "### Ejercicio 4\n",
    "#### Escribir un for para buscar el maximo de una lista e imprimir su posicion"
   ]
  },
  {
   "cell_type": "code",
   "execution_count": 9,
   "metadata": {},
   "outputs": [
    {
     "name": "stdout",
     "output_type": "stream",
     "text": [
      "Posicion:  4\n"
     ]
    }
   ],
   "source": [
    "lista = [44, 11, 15, 29, 53, 12, 30]\n",
    "t = lista[1]\n",
    "p = 0\n",
    "for i in range(0, len(lista)):\n",
    "    if(i != len(lista)):\n",
    "        if(lista[i] > t):\n",
    "            t = lista[i]\n",
    "            p = i\n",
    "print('Posicion: ',p)"
   ]
  },
  {
   "cell_type": "markdown",
   "metadata": {},
   "source": [
    "#### Ejercicio 5\n",
    "#### Escribir una funcion que reciba una lista y un valor y devuelva la cantidad de veces que aparece ese valor en la lista"
   ]
  },
  {
   "cell_type": "code",
   "execution_count": 17,
   "metadata": {},
   "outputs": [
    {
     "name": "stdout",
     "output_type": "stream",
     "text": [
      "El numero  2  se repite  3 veces\n"
     ]
    }
   ],
   "source": [
    "def ocurrencia(lista, valor):\n",
    "    c = 0\n",
    "    for i in range(0, len(lista)):\n",
    "        if(lista[i] == valor):\n",
    "            c += 1\n",
    "    print('El numero ', valor, ' se repite ', c, 'veces')\n",
    "ocurrencia([1, 4, 2, 3, 5, 1, 4, 2, 3, 6, 1, 7, 1, 3, 5, 1, 1, 5, 3, 2], 2)"
   ]
  }
 ],
 "metadata": {
  "kernelspec": {
   "display_name": "Python 3",
   "language": "python",
   "name": "python3"
  },
  "language_info": {
   "codemirror_mode": {
    "name": "ipython",
    "version": 3
   },
   "file_extension": ".py",
   "mimetype": "text/x-python",
   "name": "python",
   "nbconvert_exporter": "python",
   "pygments_lexer": "ipython3",
   "version": "3.7.5"
  }
 },
 "nbformat": 4,
 "nbformat_minor": 4
}
