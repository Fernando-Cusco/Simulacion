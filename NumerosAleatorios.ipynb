{
 "cells": [
  {
   "cell_type": "markdown",
   "metadata": {},
   "source": [
    "### Tarea Simulación"
   ]
  },
  {
   "cell_type": "markdown",
   "metadata": {},
   "source": [
    "##### Generra 2 numeros pseudoaleatorios (los dados 1-6), deben utilizar 2 librerias diferentes\n",
    "#### Sumar los 2 numeros y generar la tabla\n",
    "#### 100 - 1000 - 10000"
   ]
  },
  {
   "cell_type": "code",
   "execution_count": 19,
   "metadata": {},
   "outputs": [],
   "source": [
    "import numpy as np"
   ]
  },
  {
   "cell_type": "code",
   "execution_count": 8,
   "metadata": {},
   "outputs": [],
   "source": [
    "def generar(cantidad):\n",
    "    caras = [1, 2, 3,4 ,5 ,6]\n",
    "    frecuencias = []\n",
    "    for i in range(1, cantidad+1):\n",
    "        dado1 = np.random.choice(caras)\n",
    "        dado2 = np.random.choice(caras)\n",
    "        frecuencias.append((dado1+dado2))\n",
    "    return frecuencias"
   ]
  },
  {
   "cell_type": "code",
   "execution_count": 9,
   "metadata": {},
   "outputs": [],
   "source": [
    "#frecuencias\n",
    "def contar(lista):\n",
    "    return {i:lista.count(i) for i in lista}"
   ]
  },
  {
   "cell_type": "code",
   "execution_count": 22,
   "metadata": {},
   "outputs": [],
   "source": [
    "def calcularProbabilidad(cantidad):\n",
    "    frecuencia = generar(cantidad)\n",
    "    veces = contar(frecuencia)\n",
    "    print('Suma ','  Veces ', 'Probabilidad')\n",
    "    for i in veces:\n",
    "        print(i,'     ', veces[i],'      ',(veces[i]/cantidad))"
   ]
  },
  {
   "cell_type": "markdown",
   "metadata": {},
   "source": [
    "### 100 números"
   ]
  },
  {
   "cell_type": "code",
   "execution_count": 23,
   "metadata": {},
   "outputs": [
    {
     "name": "stdout",
     "output_type": "stream",
     "text": [
      "Suma    Veces  Probabilidad\n",
      "7       12        0.12\n",
      "6       17        0.17\n",
      "8       18        0.18\n",
      "4       6        0.06\n",
      "11       4        0.04\n",
      "10       8        0.08\n",
      "9       13        0.13\n",
      "5       11        0.11\n",
      "12       3        0.03\n",
      "3       5        0.05\n",
      "2       3        0.03\n"
     ]
    }
   ],
   "source": [
    "calcularProbabilidad(100)"
   ]
  },
  {
   "cell_type": "markdown",
   "metadata": {},
   "source": [
    "### 1000 números"
   ]
  },
  {
   "cell_type": "code",
   "execution_count": 24,
   "metadata": {},
   "outputs": [
    {
     "name": "stdout",
     "output_type": "stream",
     "text": [
      "Suma    Veces  Probabilidad\n",
      "6       155        0.155\n",
      "4       89        0.089\n",
      "8       141        0.141\n",
      "7       158        0.158\n",
      "9       113        0.113\n",
      "10       78        0.078\n",
      "3       51        0.051\n",
      "11       55        0.055\n",
      "12       42        0.042\n",
      "5       95        0.095\n",
      "2       23        0.023\n"
     ]
    }
   ],
   "source": [
    "calcularProbabilidad(1000)"
   ]
  },
  {
   "cell_type": "markdown",
   "metadata": {},
   "source": [
    "### 10000 números"
   ]
  },
  {
   "cell_type": "code",
   "execution_count": 25,
   "metadata": {},
   "outputs": [
    {
     "name": "stdout",
     "output_type": "stream",
     "text": [
      "Suma    Veces  Probabilidad\n",
      "7       1630        0.163\n",
      "2       273        0.0273\n",
      "5       1155        0.1155\n",
      "10       784        0.0784\n",
      "6       1412        0.1412\n",
      "4       825        0.0825\n",
      "12       288        0.0288\n",
      "8       1417        0.1417\n",
      "9       1157        0.1157\n",
      "3       528        0.0528\n",
      "11       531        0.0531\n"
     ]
    }
   ],
   "source": [
    "calcularProbabilidad(10000)"
   ]
  }
 ],
 "metadata": {
  "kernelspec": {
   "display_name": "Python 3",
   "language": "python",
   "name": "python3"
  },
  "language_info": {
   "codemirror_mode": {
    "name": "ipython",
    "version": 3
   },
   "file_extension": ".py",
   "mimetype": "text/x-python",
   "name": "python",
   "nbconvert_exporter": "python",
   "pygments_lexer": "ipython3",
   "version": "3.7.7"
  }
 },
 "nbformat": 4,
 "nbformat_minor": 4
}
