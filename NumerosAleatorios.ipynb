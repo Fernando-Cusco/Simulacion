{
 "cells": [
  {
   "cell_type": "markdown",
   "metadata": {},
   "source": [
    "### Tarea Simulación"
   ]
  },
  {
   "cell_type": "markdown",
   "metadata": {},
   "source": [
    "##### Generra 2 numeros pseudoaleatorios (los dados 1-6), deben utilizar 2 librerias diferentes\n",
    "#### Sumar los 2 numeros y generar la tabla\n",
    "#### 100 - 1000 - 10000"
   ]
  },
  {
   "cell_type": "code",
   "execution_count": 31,
   "metadata": {},
   "outputs": [],
   "source": [
    "import numpy as np\n",
    "import random"
   ]
  },
  {
   "cell_type": "code",
   "execution_count": 26,
   "metadata": {},
   "outputs": [],
   "source": [
    "def generar(cantidad):\n",
    "    frecuencias = []\n",
    "    for i in range(1, cantidad+1):\n",
    "        dado1 = np.random.randint(1, 7)\n",
    "        dado2 = np.random.randint(1, 7)\n",
    "        frecuencias.append((dado1+dado2))\n",
    "    return frecuencias"
   ]
  },
  {
   "cell_type": "code",
   "execution_count": 39,
   "metadata": {},
   "outputs": [],
   "source": [
    "def generarRandom(cantidad):\n",
    "    frecuencias = []\n",
    "    for i in range(1, cantidad+1):\n",
    "        dado1 = random.randint(1, 6)\n",
    "        dado2 = random.randint(1, 6)\n",
    "        frecuencias.append((dado1+dado2))\n",
    "    return frecuencias"
   ]
  },
  {
   "cell_type": "code",
   "execution_count": 9,
   "metadata": {},
   "outputs": [],
   "source": [
    "#frecuencias\n",
    "def contar(lista):\n",
    "    return {i:lista.count(i) for i in lista}"
   ]
  },
  {
   "cell_type": "code",
   "execution_count": 22,
   "metadata": {},
   "outputs": [],
   "source": [
    "def calcularProbabilidad(cantidad):\n",
    "    frecuencia = generar(cantidad)\n",
    "    veces = contar(frecuencia)\n",
    "    print('Suma ','  Veces ', 'Probabilidad')\n",
    "    for i in veces:\n",
    "        print(i,'     ', veces[i],'      ',(veces[i]/cantidad))"
   ]
  },
  {
   "cell_type": "code",
   "execution_count": 36,
   "metadata": {},
   "outputs": [],
   "source": [
    "def calcularProbabilidadRandom(cantidad):\n",
    "    frecuencia = generarRandom(cantidad)\n",
    "    veces = contar(frecuencia)\n",
    "    print('Suma ','  Veces ', 'Probabilidad')\n",
    "    for i in veces:\n",
    "        print(i,'     ', veces[i],'      ',(veces[i]/cantidad))"
   ]
  },
  {
   "cell_type": "markdown",
   "metadata": {},
   "source": [
    "### 100 números np.random.randint"
   ]
  },
  {
   "cell_type": "code",
   "execution_count": 32,
   "metadata": {},
   "outputs": [
    {
     "name": "stdout",
     "output_type": "stream",
     "text": [
      "Suma    Veces  Probabilidad\n",
      "11       5        0.05\n",
      "5       13        0.13\n",
      "7       23        0.23\n",
      "10       5        0.05\n",
      "6       9        0.09\n",
      "4       11        0.11\n",
      "8       13        0.13\n",
      "3       7        0.07\n",
      "2       2        0.02\n",
      "12       2        0.02\n",
      "9       10        0.1\n"
     ]
    }
   ],
   "source": [
    "calcularProbabilidad(100)"
   ]
  },
  {
   "cell_type": "markdown",
   "metadata": {},
   "source": [
    "### 1000 números np.random.randint"
   ]
  },
  {
   "cell_type": "code",
   "execution_count": 33,
   "metadata": {},
   "outputs": [
    {
     "name": "stdout",
     "output_type": "stream",
     "text": [
      "Suma    Veces  Probabilidad\n",
      "8       134        0.134\n",
      "11       65        0.065\n",
      "7       153        0.153\n",
      "4       81        0.081\n",
      "5       124        0.124\n",
      "9       92        0.092\n",
      "6       124        0.124\n",
      "2       34        0.034\n",
      "3       70        0.07\n",
      "10       89        0.089\n",
      "12       34        0.034\n"
     ]
    }
   ],
   "source": [
    "calcularProbabilidad(1000)"
   ]
  },
  {
   "cell_type": "markdown",
   "metadata": {},
   "source": [
    "### 10000 números np.random.randint"
   ]
  },
  {
   "cell_type": "code",
   "execution_count": 44,
   "metadata": {},
   "outputs": [
    {
     "name": "stdout",
     "output_type": "stream",
     "text": [
      "Suma    Veces  Probabilidad\n",
      "3       552        0.0552\n",
      "7       1639        0.1639\n",
      "9       1087        0.1087\n",
      "8       1352        0.1352\n",
      "11       586        0.0586\n",
      "10       901        0.0901\n",
      "4       802        0.0802\n",
      "5       1160        0.116\n",
      "6       1348        0.1348\n",
      "2       294        0.0294\n",
      "12       279        0.0279\n"
     ]
    }
   ],
   "source": [
    "calcularProbabilidad(10000)"
   ]
  },
  {
   "cell_type": "markdown",
   "metadata": {},
   "source": [
    "### 100 números random.randint"
   ]
  },
  {
   "cell_type": "code",
   "execution_count": 40,
   "metadata": {},
   "outputs": [
    {
     "name": "stdout",
     "output_type": "stream",
     "text": [
      "Suma    Veces  Probabilidad\n",
      "3       7        0.07\n",
      "6       11        0.11\n",
      "10       13        0.13\n",
      "8       14        0.14\n",
      "5       14        0.14\n",
      "11       8        0.08\n",
      "4       5        0.05\n",
      "9       9        0.09\n",
      "7       13        0.13\n",
      "12       2        0.02\n",
      "2       4        0.04\n"
     ]
    }
   ],
   "source": [
    "calcularProbabilidadRandom(100)"
   ]
  },
  {
   "cell_type": "markdown",
   "metadata": {},
   "source": [
    "### 1000 números random.randint"
   ]
  },
  {
   "cell_type": "code",
   "execution_count": 41,
   "metadata": {
    "scrolled": true
   },
   "outputs": [
    {
     "name": "stdout",
     "output_type": "stream",
     "text": [
      "Suma    Veces  Probabilidad\n",
      "12       23        0.023\n",
      "5       113        0.113\n",
      "7       183        0.183\n",
      "8       130        0.13\n",
      "9       121        0.121\n",
      "6       143        0.143\n",
      "10       75        0.075\n",
      "4       78        0.078\n",
      "3       58        0.058\n",
      "11       50        0.05\n",
      "2       26        0.026\n"
     ]
    }
   ],
   "source": [
    "calcularProbabilidadRandom(1000)"
   ]
  },
  {
   "cell_type": "markdown",
   "metadata": {},
   "source": [
    "### 10000 números random.randint"
   ]
  },
  {
   "cell_type": "code",
   "execution_count": 43,
   "metadata": {},
   "outputs": [
    {
     "name": "stdout",
     "output_type": "stream",
     "text": [
      "Suma    Veces  Probabilidad\n",
      "6       1390        0.139\n",
      "8       1367        0.1367\n",
      "5       1164        0.1164\n",
      "9       1104        0.1104\n",
      "10       825        0.0825\n",
      "4       871        0.0871\n",
      "11       567        0.0567\n",
      "2       300        0.03\n",
      "7       1594        0.1594\n",
      "3       539        0.0539\n",
      "12       279        0.0279\n"
     ]
    }
   ],
   "source": [
    "calcularProbabilidadRandom(10000)"
   ]
  }
 ],
 "metadata": {
  "kernelspec": {
   "display_name": "Python 3",
   "language": "python",
   "name": "python3"
  },
  "language_info": {
   "codemirror_mode": {
    "name": "ipython",
    "version": 3
   },
   "file_extension": ".py",
   "mimetype": "text/x-python",
   "name": "python",
   "nbconvert_exporter": "python",
   "pygments_lexer": "ipython3",
   "version": "3.7.7"
  }
 },
 "nbformat": 4,
 "nbformat_minor": 4
}
